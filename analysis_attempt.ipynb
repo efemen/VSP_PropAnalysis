{
 "cells": [
  {
   "cell_type": "code",
   "execution_count": 1,
   "metadata": {},
   "outputs": [],
   "source": [
    "import openvsp as vsp\n",
    "from import_prop import process_propeller_file \n",
    "import os"
   ]
  },
  {
   "cell_type": "code",
   "execution_count": 2,
   "metadata": {},
   "outputs": [],
   "source": [
    "vsp.VSPCheckSetup()\n",
    "vsp.VSPRenew()\n",
    "vsp.ClearVSPModel()\n",
    "vsp.DeleteAllResults()\n",
    "\n",
    "\n",
    "# Import the propeller geometry\n",
    "prop_id = vsp.ImportFile('geometry/10x10E-PERF.bem', vsp.IMPORT_BEM, \"\")\n",
    "\n",
    "vsp.SetParmVal(prop_id, \"ConstructXoC\", \"Design\", 0.0)  # Construct x/c at 0.0\n",
    "vsp.SetParmVal(prop_id, \"FeatherAxisXoC\", \"Design\", 0.125)  # Set the feather axis to 0.125\n",
    "\n",
    "# Set up root airfoil section\n",
    "xsec_surf = vsp.GetXSecSurf(prop_id, 0)\n",
    "vsp.ChangeXSecShape(xsec_surf, 0, vsp.XS_FILE_AIRFOIL)\n",
    "\n",
    "xsec = vsp.GetXSec(xsec_surf, 0)\n",
    "vsp.ReadFileAirfoil(xsec, \"./geometry/e63.dat\")\n",
    "\n",
    "# Set up tip airfoil section\n",
    "xsec_surf = vsp.GetXSecSurf(prop_id, 1)\n",
    "vsp.ChangeXSecShape(xsec_surf, 1, vsp.XS_FILE_AIRFOIL)\n",
    "\n",
    "xsec = vsp.GetXSec(xsec_surf, 1)\n",
    "vsp.ReadFileAirfoil(xsec, \"./geometry/n4412.dat\")\n",
    "\n",
    "# Set tesselation\n",
    "vsp.SetParmVal(prop_id, \"Tess_U\", \"Shape\", 32)  # Num_U \n",
    "vsp.SetParmVal(prop_id, \"Tess_W\", \"Shape\", 32)  # Num_W\n",
    "\n",
    "vsp.SetParmVal(vsp.FindParm(vsp.FindUnsteadyGroup(0),\"RPM\",\"UnsteadyGroup\"), 2500)\n",
    "\n",
    "vsp.Update()\n",
    "vsp.WriteVSPFile(\"apc_bem_10x10.vsp3\")"
   ]
  },
  {
   "cell_type": "code",
   "execution_count": 3,
   "metadata": {},
   "outputs": [],
   "source": [
    "# Comp Geometry\n",
    "analysis_name = \"VSPAEROComputeGeometry\"\n",
    "vsp.SetAnalysisInputDefaults(analysis_name)\n",
    "analysis_method = list(vsp.GetIntAnalysisInput(analysis_name, \"AnalysisMethod\" ))\n",
    "analysis_method[0] = vsp.VORTEX_LATTICE\n",
    "vsp.SetIntAnalysisInput(analysis_name, \"AnalysisMethod\", analysis_method)\n",
    "geom_res_id = vsp.ExecAnalysis( analysis_name )\n"
   ]
  },
  {
   "cell_type": "code",
   "execution_count": 4,
   "metadata": {},
   "outputs": [
    {
     "data": {
      "text/plain": [
       "'LMKLSWF'"
      ]
     },
     "execution_count": 4,
     "metadata": {},
     "output_type": "execute_result"
    }
   ],
   "source": [
    "\n",
    "# Analysis Setup\n",
    "analysis_name=\"VSPAEROSweep\"\n",
    "vsp.SetAnalysisInputDefaults(\"VSPAEROSweep\")\n",
    "aero_id = vsp.FindContainer( \"VSPAEROSettings\", 0)\n",
    "\n",
    "\n",
    "# recref=[50000]\n",
    "# recref_end=[50000]\n",
    "vref=[20]\n",
    "blades_flag=[1]\n",
    "vinf=[20]\n",
    "rho=[1.225]\n",
    "alpha_start=[0]\n",
    "alpha_end=[0]\n",
    "auto_time_flag=[1]\n",
    "num_rev_flag=[5]\n",
    "# numtimesteps=[120]\n",
    "# timestepsizes=[0.00042]\n",
    "\n",
    "# vsp.SetDoubleAnalysisInput(analysis_name,\"ReCref\",recref,0)\n",
    "# vsp.SetDoubleAnalysisInput(analysis_name,\"ReCrefEnd\",recref_end,0)\n",
    "vsp.SetDoubleAnalysisInput(analysis_name,\"Vref\",vref, 0)\n",
    "vsp.SetIntAnalysisInput(analysis_name,\"RotateBladesFlag\",blades_flag,0)\n",
    "vsp.SetDoubleAnalysisInput(analysis_name,\"Vinf\",vinf,0)\n",
    "vsp.SetDoubleAnalysisInput(analysis_name,\"Rho\",rho,0)\n",
    "vsp.SetDoubleAnalysisInput(analysis_name,\"AlphaStart\", alpha_start,0)\n",
    "vsp.SetIntAnalysisInput(analysis_name,\"AutoTimeStepFlag\",auto_time_flag,0)\n",
    "vsp.SetIntAnalysisInput(analysis_name,\"AutoTimeNumRevs\", num_rev_flag,0)\n",
    "# vsp.SetDoubleAnalysisInput(analysis_name,\"NumTimeSteps\",numtimesteps,0)\n",
    "# vsp.SetDoubleAnalysisInput(analysis_name,\"TimeStepSize\",timestepsizes,0)\n",
    "\n",
    "\n",
    "vsp.Update()\n",
    "vsp.PrintAnalysisInputs(analysis_name)\n",
    "vsp.ExecAnalysis(analysis=analysis_name)"
   ]
  },
  {
   "cell_type": "code",
   "execution_count": 6,
   "metadata": {},
   "outputs": [],
   "source": [
    "rotor_res = vsp.FindResultsID(\"VSPAERO_Rotor\", 0)\n",
    "vsp.WriteResultsCSVFile(rotor_res, \"apc_bem_10x10.csv\")"
   ]
  }
 ],
 "metadata": {
  "kernelspec": {
   "display_name": "Python 3",
   "language": "python",
   "name": "python3"
  },
  "language_info": {
   "codemirror_mode": {
    "name": "ipython",
    "version": 3
   },
   "file_extension": ".py",
   "mimetype": "text/x-python",
   "name": "python",
   "nbconvert_exporter": "python",
   "pygments_lexer": "ipython3",
   "version": "3.11.9"
  }
 },
 "nbformat": 4,
 "nbformat_minor": 2
}
